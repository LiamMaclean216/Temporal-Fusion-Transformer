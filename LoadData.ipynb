{
 "cells": [
  {
   "cell_type": "code",
   "execution_count": 61,
   "metadata": {},
   "outputs": [],
   "source": [
    "import pandas as pd\n",
    "import datetime\n",
    "import torch\n",
    "import torch.nn as nn\n"
   ]
  },
  {
   "cell_type": "code",
   "execution_count": null,
   "metadata": {},
   "outputs": [],
   "source": [
    "year = '2018'\n",
    "symbol = 'BTCUSDT'\n",
    "print(\"df\")"
   ]
  },
  {
   "cell_type": "code",
   "execution_count": 175,
   "metadata": {
    "scrolled": true
   },
   "outputs": [
    {
     "name": "stdout",
     "output_type": "stream",
     "text": [
      "0\n"
     ]
    },
    {
     "data": {
      "text/html": [
       "<div>\n",
       "<style scoped>\n",
       "    .dataframe tbody tr th:only-of-type {\n",
       "        vertical-align: middle;\n",
       "    }\n",
       "\n",
       "    .dataframe tbody tr th {\n",
       "        vertical-align: top;\n",
       "    }\n",
       "\n",
       "    .dataframe thead th {\n",
       "        text-align: right;\n",
       "    }\n",
       "</style>\n",
       "<table border=\"1\" class=\"dataframe\">\n",
       "  <thead>\n",
       "    <tr style=\"text-align: right;\">\n",
       "      <th></th>\n",
       "      <th>3</th>\n",
       "      <th>4</th>\n",
       "      <th>5</th>\n",
       "      <th>6</th>\n",
       "      <th>day</th>\n",
       "      <th>month</th>\n",
       "    </tr>\n",
       "  </thead>\n",
       "  <tbody>\n",
       "    <tr>\n",
       "      <td>0</td>\n",
       "      <td>13715.65</td>\n",
       "      <td>13681.00</td>\n",
       "      <td>13707.92</td>\n",
       "      <td>2.844266</td>\n",
       "      <td>1</td>\n",
       "      <td>1</td>\n",
       "    </tr>\n",
       "    <tr>\n",
       "      <td>1</td>\n",
       "      <td>13707.91</td>\n",
       "      <td>13666.11</td>\n",
       "      <td>13694.92</td>\n",
       "      <td>2.113138</td>\n",
       "      <td>1</td>\n",
       "      <td>1</td>\n",
       "    </tr>\n",
       "    <tr>\n",
       "      <td>2</td>\n",
       "      <td>13694.94</td>\n",
       "      <td>13680.00</td>\n",
       "      <td>13680.00</td>\n",
       "      <td>1.346411</td>\n",
       "      <td>1</td>\n",
       "      <td>1</td>\n",
       "    </tr>\n",
       "    <tr>\n",
       "      <td>3</td>\n",
       "      <td>13679.98</td>\n",
       "      <td>13601.00</td>\n",
       "      <td>13645.99</td>\n",
       "      <td>11.589417</td>\n",
       "      <td>1</td>\n",
       "      <td>1</td>\n",
       "    </tr>\n",
       "    <tr>\n",
       "      <td>4</td>\n",
       "      <td>13646.00</td>\n",
       "      <td>13576.28</td>\n",
       "      <td>13600.00</td>\n",
       "      <td>15.724566</td>\n",
       "      <td>1</td>\n",
       "      <td>1</td>\n",
       "    </tr>\n",
       "    <tr>\n",
       "      <td>...</td>\n",
       "      <td>...</td>\n",
       "      <td>...</td>\n",
       "      <td>...</td>\n",
       "      <td>...</td>\n",
       "      <td>...</td>\n",
       "      <td>...</td>\n",
       "    </tr>\n",
       "    <tr>\n",
       "      <td>2995</td>\n",
       "      <td>14809.97</td>\n",
       "      <td>14806.25</td>\n",
       "      <td>14809.93</td>\n",
       "      <td>16.760968</td>\n",
       "      <td>3</td>\n",
       "      <td>1</td>\n",
       "    </tr>\n",
       "    <tr>\n",
       "      <td>2996</td>\n",
       "      <td>14819.00</td>\n",
       "      <td>14809.36</td>\n",
       "      <td>14819.00</td>\n",
       "      <td>17.751784</td>\n",
       "      <td>3</td>\n",
       "      <td>1</td>\n",
       "    </tr>\n",
       "    <tr>\n",
       "      <td>2997</td>\n",
       "      <td>14820.00</td>\n",
       "      <td>14809.95</td>\n",
       "      <td>14819.00</td>\n",
       "      <td>8.605974</td>\n",
       "      <td>3</td>\n",
       "      <td>1</td>\n",
       "    </tr>\n",
       "    <tr>\n",
       "      <td>2998</td>\n",
       "      <td>14849.00</td>\n",
       "      <td>14819.00</td>\n",
       "      <td>14838.00</td>\n",
       "      <td>8.675175</td>\n",
       "      <td>3</td>\n",
       "      <td>1</td>\n",
       "    </tr>\n",
       "    <tr>\n",
       "      <td>2999</td>\n",
       "      <td>14849.00</td>\n",
       "      <td>14820.00</td>\n",
       "      <td>14820.00</td>\n",
       "      <td>2.213947</td>\n",
       "      <td>3</td>\n",
       "      <td>1</td>\n",
       "    </tr>\n",
       "  </tbody>\n",
       "</table>\n",
       "<p>3000 rows × 6 columns</p>\n",
       "</div>"
      ],
      "text/plain": [
       "             3         4         5          6  day  month\n",
       "0     13715.65  13681.00  13707.92   2.844266    1      1\n",
       "1     13707.91  13666.11  13694.92   2.113138    1      1\n",
       "2     13694.94  13680.00  13680.00   1.346411    1      1\n",
       "3     13679.98  13601.00  13645.99  11.589417    1      1\n",
       "4     13646.00  13576.28  13600.00  15.724566    1      1\n",
       "...        ...       ...       ...        ...  ...    ...\n",
       "2995  14809.97  14806.25  14809.93  16.760968    3      1\n",
       "2996  14819.00  14809.36  14819.00  17.751784    3      1\n",
       "2997  14820.00  14809.95  14819.00   8.605974    3      1\n",
       "2998  14849.00  14819.00  14838.00   8.675175    3      1\n",
       "2999  14849.00  14820.00  14820.00   2.213947    3      1\n",
       "\n",
       "[3000 rows x 6 columns]"
      ]
     },
     "execution_count": 175,
     "metadata": {},
     "output_type": "execute_result"
    }
   ],
   "source": [
    "header = {'open_time' : 1, 'open' : 2, 'high' : 3, 'low' : 4, 'close' : 5, 'volume' : 6}\n",
    "def get_batches(year, symbol, in_seq_len, out_seq_len, batch_size, epochs = 1):\n",
    "    data = data = pd.read_csv(\"{}_{}.csv\".format(year, symbol), header = None)\n",
    "    \n",
    "    \n",
    "    #convert timestamp into month and day numbers\n",
    "    data['day'] = pd.to_datetime(data[1], unit='ms').apply(lambda x: x.day)\n",
    "    data['month'] = pd.to_datetime(data[1], unit='ms').apply(lambda x: x.month)\n",
    "        \n",
    "    batch = []\n",
    "    for i in range(0, data.shape[0], in_seq_len + out_seq_len):\n",
    "        print(i)\n",
    "        in_seq = data.iloc[i:i + in_seq_len,[2,3,4,5,6,7]]\n",
    "        \n",
    "        \n",
    "        out_seq = data.iloc[i+in_seq_len:i+in_seq_len+out_seq_len,[6,7]]\n",
    "        batch.append([in_seq,out_seq])\n",
    "        \n",
    "        if(len(batch) >= batch_size):\n",
    "            return batch\n",
    "            batch = []\n",
    "            \n",
    "        \n",
    "g = get_batches(year, symbol,3000,4, 1)\n",
    "g[0][0]\n",
    "\n"
   ]
  },
  {
   "cell_type": "code",
   "execution_count": 176,
   "metadata": {},
   "outputs": [
    {
     "data": {
      "text/html": [
       "<div>\n",
       "<style scoped>\n",
       "    .dataframe tbody tr th:only-of-type {\n",
       "        vertical-align: middle;\n",
       "    }\n",
       "\n",
       "    .dataframe tbody tr th {\n",
       "        vertical-align: top;\n",
       "    }\n",
       "\n",
       "    .dataframe thead th {\n",
       "        text-align: right;\n",
       "    }\n",
       "</style>\n",
       "<table border=\"1\" class=\"dataframe\">\n",
       "  <thead>\n",
       "    <tr style=\"text-align: right;\">\n",
       "      <th></th>\n",
       "      <th>day</th>\n",
       "      <th>month</th>\n",
       "    </tr>\n",
       "  </thead>\n",
       "  <tbody>\n",
       "    <tr>\n",
       "      <td>3000</td>\n",
       "      <td>3</td>\n",
       "      <td>1</td>\n",
       "    </tr>\n",
       "    <tr>\n",
       "      <td>3001</td>\n",
       "      <td>3</td>\n",
       "      <td>1</td>\n",
       "    </tr>\n",
       "    <tr>\n",
       "      <td>3002</td>\n",
       "      <td>3</td>\n",
       "      <td>1</td>\n",
       "    </tr>\n",
       "    <tr>\n",
       "      <td>3003</td>\n",
       "      <td>3</td>\n",
       "      <td>1</td>\n",
       "    </tr>\n",
       "  </tbody>\n",
       "</table>\n",
       "</div>"
      ],
      "text/plain": [
       "      day  month\n",
       "3000    3      1\n",
       "3001    3      1\n",
       "3002    3      1\n",
       "3003    3      1"
      ]
     },
     "execution_count": 176,
     "metadata": {},
     "output_type": "execute_result"
    }
   ],
   "source": [
    "g[0][1]"
   ]
  },
  {
   "cell_type": "code",
   "execution_count": 114,
   "metadata": {},
   "outputs": [
    {
     "data": {
      "text/plain": [
       "5"
      ]
     },
     "execution_count": 114,
     "metadata": {},
     "output_type": "execute_result"
    }
   ],
   "source": [
    "datetime.datetime.fromtimestamp(1546300740)\n",
    "\n",
    "datetime.datetime.now().day"
   ]
  },
  {
   "cell_type": "code",
   "execution_count": null,
   "metadata": {},
   "outputs": [],
   "source": []
  }
 ],
 "metadata": {
  "kernelspec": {
   "display_name": "Python 3",
   "language": "python",
   "name": "python3"
  },
  "language_info": {
   "codemirror_mode": {
    "name": "ipython",
    "version": 3
   },
   "file_extension": ".py",
   "mimetype": "text/x-python",
   "name": "python",
   "nbconvert_exporter": "python",
   "pygments_lexer": "ipython3",
   "version": "3.7.4"
  }
 },
 "nbformat": 4,
 "nbformat_minor": 2
}
